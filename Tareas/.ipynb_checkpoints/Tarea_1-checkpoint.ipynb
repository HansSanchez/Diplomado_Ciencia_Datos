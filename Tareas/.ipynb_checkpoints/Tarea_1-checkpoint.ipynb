{
 "cells": [
  {
   "cell_type": "code",
   "execution_count": 57,
   "id": "de160e52",
   "metadata": {},
   "outputs": [
    {
     "data": {
      "text/html": [
       "<style>\n",
       "    .logo {\n",
       "        margin-right: 20px !important;\n",
       "        width: 80px;\n",
       "        height: 80px;\n",
       "    }\n",
       "    \n",
       "    .title {\n",
       "        color: blue;\n",
       "        text-transform: uppercase;\n",
       "    }\n",
       "    \n",
       "    .author {\n",
       "        color: black;\n",
       "    }\n",
       "    \n",
       "    .author-img {\n",
       "        margin-right: 20px !important;\n",
       "        width: 200px;\n",
       "        border-radius: 100%;\n",
       "    }\n",
       "    \n",
       "    .btn {\n",
       "        display: inline-block;\n",
       "        font-weight: 400;\n",
       "        color: #3c4b64;\n",
       "        text-align: center;\n",
       "        vertical-align: middle;\n",
       "        cursor: pointer;\n",
       "        -webkit-user-select: none;\n",
       "        -moz-user-select: none;\n",
       "        -ms-user-select: none;\n",
       "        user-select: none;\n",
       "        background-color: transparent;\n",
       "        border: 1px solid transparent;\n",
       "        padding: 0.375rem 0.75rem;\n",
       "        font-size: 0.875rem;\n",
       "        line-height: 1.5;\n",
       "        border-radius: 0.25rem;\n",
       "        transition: color 0.15s ease-in-out, background-color 0.15s ease-in-out, border-color 0.15s ease-in-out, box-shadow 0.15s ease-in-out;\n",
       "    }\n",
       "    \n",
       "    .btn-info {\n",
       "        color: #fff;\n",
       "        background-color: #39f;\n",
       "        border-color: #39f;\n",
       "        font-size: 15px;\n",
       "    }\n",
       "    \n",
       "</style>\n"
      ],
      "text/plain": [
       "<IPython.core.display.HTML object>"
      ]
     },
     "metadata": {},
     "output_type": "display_data"
    }
   ],
   "source": [
    "%%html\n",
    "<style>\n",
    "    .logo {\n",
    "        margin-right: 20px !important;\n",
    "        width: 80px;\n",
    "        height: 80px;\n",
    "    }\n",
    "    \n",
    "    .title {\n",
    "        color: blue;\n",
    "        text-transform: uppercase;\n",
    "    }\n",
    "    \n",
    "    .author {\n",
    "        color: black;\n",
    "    }\n",
    "    \n",
    "    .author-img {\n",
    "        margin-right: 20px !important;\n",
    "        width: 200px;\n",
    "        border-radius: 100%;\n",
    "    }\n",
    "    \n",
    "    .btn {\n",
    "        display: inline-block;\n",
    "        font-weight: 400;\n",
    "        color: #3c4b64;\n",
    "        text-align: center;\n",
    "        vertical-align: middle;\n",
    "        cursor: pointer;\n",
    "        -webkit-user-select: none;\n",
    "        -moz-user-select: none;\n",
    "        -ms-user-select: none;\n",
    "        user-select: none;\n",
    "        background-color: transparent;\n",
    "        border: 1px solid transparent;\n",
    "        padding: 0.375rem 0.75rem;\n",
    "        font-size: 0.875rem;\n",
    "        line-height: 1.5;\n",
    "        border-radius: 0.25rem;\n",
    "        transition: color 0.15s ease-in-out, background-color 0.15s ease-in-out, border-color 0.15s ease-in-out, box-shadow 0.15s ease-in-out;\n",
    "    }\n",
    "    \n",
    "    .btn-info {\n",
    "        color: #fff;\n",
    "        background-color: #39f;\n",
    "        border-color: #39f;\n",
    "        font-size: 15px;\n",
    "    }\n",
    "    \n",
    "</style>"
   ]
  },
  {
   "cell_type": "markdown",
   "id": "35758259",
   "metadata": {},
   "source": [
    "<img src=\"./Recursos/logo-ciencia-de-datos.png\" class=\"logo\" align=\"left\"/> \n",
    "<h1 class=\"title\"><left>Introducción al concepto de ciencia de datos</left></h1>"
   ]
  },
  {
   "cell_type": "markdown",
   "id": "1fa603d4",
   "metadata": {},
   "source": [
    "<h2 class=\"author\">Autor</h2>"
   ]
  },
  {
   "cell_type": "markdown",
   "id": "377512e5",
   "metadata": {},
   "source": [
    "<img src=\"./Recursos/hans.jpg\" class=\"author-img\" align=\"left\"/> "
   ]
  },
  {
   "cell_type": "markdown",
   "id": "8780a88d",
   "metadata": {},
   "source": [
    "Hans Yadiel Sánchez Mora\n",
    "<br>hanssanchez427@gmail.com\n",
    "<br>312 624 89 50\n",
    "<br>\n",
    "<br>\n",
    "Ing. Sistemas - [Universidad de Cundinamarca](https://www.ucundinamarca.edu.co/)\n",
    "<br>\n",
    "<ul>\n",
    "    <li>Desarrollador Full Stack Semi Senior.</li>\n",
    "    <li>Estudiante de Ciencia de Datos.</li>\n",
    "</ul>\n",
    "\n",
    "<h2>Perfil</h2>\n",
    "\n",
    "<p>\n",
    "Ingeniero de sistemas con enfoque en la ingeniería de software y sistemas de información.\n",
    "<br>\n",
    "<br>\n",
    "Cuento con un poco más de 3 años laborando en el sector de las TIC apoyando la automatización de procesos enfocados en el brindar herramientas que facilitan labores manuales diarias.\n",
    "<br>\n",
    "<br>\n",
    "Soy capaz de trabajar en un ambiente laboral exigente, solo o en equipo como requiera el proyecto con el fin de alcanzar los objetivos propuestos.\n",
    "</p>"
   ]
  },
  {
   "cell_type": "markdown",
   "id": "25d97069",
   "metadata": {},
   "source": [
    "<h2>Contenido</h2>"
   ]
  },
  {
   "cell_type": "markdown",
   "id": "afc11ca4",
   "metadata": {},
   "source": [
    "1. [Introducción](#Introducción)\n",
    "1. [Concepto](#Concepto)\n",
    "1. [Ejemplo](#Ejemplo)\n",
    "1. [Formula Matematica](#Formula-Matematica)\n",
    "1. [Google Colaboratory](#Google-Colaboratory)\n",
    "1. [NBviewer](#NBviewer)\n",
    "1. [Referencias](#Referencias)"
   ]
  },
  {
   "cell_type": "markdown",
   "id": "29d9f346",
   "metadata": {},
   "source": [
    "<h2>Introducción</h2>"
   ]
  },
  {
   "cell_type": "markdown",
   "id": "c1352bae",
   "metadata": {},
   "source": [
    "<p>\n",
    "    La ciencia datos es un amplio campo de interdiciplinas la cual busca la implementación de diversos métodos para extraer un coocimiento de diferentes formas y obtener un producto a base de la información recolectada <span style=\"color: blue\">(Briega, 2022)</span>\n",
    "</p>"
   ]
  },
  {
   "cell_type": "markdown",
   "id": "7a1a2b58",
   "metadata": {},
   "source": [
    "<h2>Concepto</h2>"
   ]
  },
  {
   "cell_type": "markdown",
   "id": "f55195be",
   "metadata": {},
   "source": [
    "<p style=\"text-align: justify\">\n",
    "    La ciencia de datos es una disciplina emergente y de gran pertinencia para todas las organizaciones que\n",
    "deseen codificar el valor oculto e intangible de sus datos.     \n",
    "<br>\n",
    "<br>    \n",
    "Hoy más que nunca estamos más conectados\n",
    "con personas y dispositivos, tenemos acceso a más redes y servicios, y sin duda consumimos y producimos mayores cantidades de datos e información. \n",
    "<br>\n",
    "<br>\n",
    "Por lo que requerimos contar con las habilidades,\n",
    "conocimientos, experiencias y técnicas de los científicos de datos para procesar, analizar y visualizar de\n",
    "formas más inteligentes los datos en información, promoviendo así, más y mejores conocimientos de\n",
    "nuestra realidad en sus contextos. \n",
    "<br>\n",
    "<br>\n",
    "En este artículo se explican las principales áreas en las que desarrolla\n",
    "un científico de datos (Big Data, minería y visualización de datos) y las intersecciones entre éstas; se incluyen ejemplos de proyectos desarrollados por científicos de datos y del gran valor que han sabido codificar. Además, se presenta una interpretación de los elementos que constituyen al científico de datos. <span style=\"color: blue\">(Moreno, 2017)</span>.\n",
    "</p>"
   ]
  },
  {
   "cell_type": "markdown",
   "id": "93b85b76",
   "metadata": {},
   "source": [
    "<h2>Ejemplo</h2>"
   ]
  },
  {
   "cell_type": "code",
   "execution_count": 55,
   "id": "022ee03e",
   "metadata": {},
   "outputs": [
    {
     "name": "stdout",
     "output_type": "stream",
     "text": [
      "Valores\n",
      "[1, 2, 3, 4, 5, 6, 7, 8, 9]\n",
      "\n",
      "Suma de valores\n"
     ]
    },
    {
     "data": {
      "text/plain": [
       "45"
      ]
     },
     "execution_count": 55,
     "metadata": {},
     "output_type": "execute_result"
    }
   ],
   "source": [
    "import numpy as np # Importa la librería Numpy\n",
    "\n",
    "values = [1,2,3,4,5,6,7,8,9]\n",
    "print('Valores')\n",
    "print(values)\n",
    "\n",
    "print('')\n",
    "print('Suma de valores')\n",
    "np.sum(values)"
   ]
  },
  {
   "cell_type": "markdown",
   "id": "b7fec1da",
   "metadata": {},
   "source": [
    "<h2>Formula Matematica</h2>"
   ]
  },
  {
   "cell_type": "code",
   "execution_count": 151,
   "id": "14d018f0",
   "metadata": {},
   "outputs": [
    {
     "name": "stdout",
     "output_type": "stream",
     "text": [
      "Conversión angular - (Radiantes)\n",
      "x\n",
      "0.0\n",
      "0.916\n",
      "0.736\n",
      "-0.324\n",
      "-0.997\n",
      "-0.476\n",
      "0.615\n",
      "0.969\n",
      "0.165\n",
      "-0.837\n",
      "-0.837\n",
      "0.165\n",
      "0.969\n",
      "0.614\n",
      "-0.476\n",
      "-0.997\n",
      "-0.325\n",
      "0.736\n",
      "0.916\n",
      "0.0\n",
      "\n",
      "Imagen\n"
     ]
    },
    {
     "data": {
      "image/png": "[encoded data removed]",
      "text/plain": [
       "<Figure size 432x288 with 1 Axes>"
      ]
     },
     "metadata": {},
     "output_type": "display_data"
    }
   ],
   "source": [
    "import numpy as np # Importa la librería Numpy\n",
    "import matplotlib.pyplot as plt # importa la librería matplotlib.pyplot\n",
    "\n",
    "# calcula la función sin en 20 puntos\n",
    "x = np.linspace(0,7 * np.pi, 20)\n",
    "y = np.sin(x)\n",
    "\n",
    "print(\"Conversión angular - (Radiantes)\")\n",
    "print(\"x\")\n",
    "\n",
    "# Ciclo mostrar el valor de x.\n",
    "for _x in np.round(x,3):\n",
    "    x_radians = np.sin(np.round(_x, 3)) # Retorna el seno de x en radianes.\n",
    "    print(np.round(x_radians, 3)) # Muestra x con máximo 3 decimales.\n",
    "\n",
    "# Crea la imagen\n",
    "print('')\n",
    "print('Imagen')\n",
    "# 1) Color para el panel del gráfico\n",
    "fig, ax = plt.subplots(facecolor=(.0, .0, .0)) # Negro\n",
    "# 2) Color del fondo del gráfico:\n",
    "ax.set_facecolor('#FFF') # Blaco\n",
    "# 3) Título de gráfico\n",
    "ax.set_title('Gráfico de la función $y=\\sin(x)$', color='#FFF') # Blanco\n",
    "# 4) Título del Eje x\n",
    "ax.set_xlabel('Eje x', color='#FFF') # Blanco\n",
    "# 5) Título del Eje y\n",
    "ax.set_ylabel('Eje y - $\\sin (x)$', color='#FFF') # Blanco\n",
    "# 6) Color para las líneas del gráfico\n",
    "ax.plot(x, y, '#FF0000') # Rojo\n",
    "# 7) Color para los valores de los ejes\n",
    "ax.tick_params(labelcolor='#FFF') # Blanco\n",
    "# 8) Mostrar el gráfico\n",
    "plt.show()\n",
    "\n",
    "# Consultado en: https://matplotlib.org/stable/api/axes_api.html"
   ]
  },
  {
   "cell_type": "markdown",
   "id": "e3a44372",
   "metadata": {},
   "source": [
    "<h2>Google Colaboratory</h2>"
   ]
  },
  {
   "cell_type": "markdown",
   "id": "86b9c65e",
   "metadata": {},
   "source": [
    "<a class=\"btn btn-info\" style=\"text-decoration: none !important\" href=\"https://colab.research.google.com/github/HansSanchez/Diplomado_Ciencia_Datos/blob/main/Tareas/Tarea_1.ipynb\">Introducción al concepto de ciencia de datos</a>"
   ]
  },
  {
   "cell_type": "markdown",
   "id": "6c5abdbe",
   "metadata": {},
   "source": [
    "<h2>NBviewer</h2>"
   ]
  },
  {
   "cell_type": "markdown",
   "id": "2ae989f3",
   "metadata": {},
   "source": [
    "<a class=\"btn btn-info\" style=\"text-decoration: none !important\" href=\"https://nbviewer.org/github/HansSanchez/Diplomado_Ciencia_Datos/blob/5b337c4d679cc4e21e5829f8377b5d48eec1185b/Tareas/Tarea_1.ipynb\">Introducción al concepto de ciencia de datos</a>"
   ]
  },
  {
   "cell_type": "markdown",
   "id": "693d7ca9",
   "metadata": {},
   "source": [
    "<h2>Referencias</h2>"
   ]
  },
  {
   "cell_type": "markdown",
   "id": "b10f90c3",
   "metadata": {},
   "source": [
    "Briega, L. R. E. (s. f.). Ciencia de datos - Libro online de IAAR. Recuperado 19 de octubre de 2022, de https://iaarbook.github.io/datascience/\n",
    "\n",
    "Moreno Salinas, J. G., & Universidad Nacional Autónoma de México. (2017). Científico de datos: codificando el valor oculto e intangible de los datos. Revista digital universitaria, 18(7). https://doi.org/10.22201/codeic.16076079e.2017.v18n7.a2"
   ]
  }
 ],
 "metadata": {
  "kernelspec": {
   "display_name": "Python 3 (ipykernel)",
   "language": "python",
   "name": "python3"
  },
  "language_info": {
   "codemirror_mode": {
    "name": "ipython",
    "version": 3
   },
   "file_extension": ".py",
   "mimetype": "text/x-python",
   "name": "python",
   "nbconvert_exporter": "python",
   "pygments_lexer": "ipython3",
   "version": "3.9.12"
  },
  "vscode": {
   "interpreter": {
    "hash": "916dbcbb3f70747c44a77c7bcd40155683ae19c65e1c03b4aa3499c5328201f1"
   }
  }
 },
 "nbformat": 4,
 "nbformat_minor": 5
}
