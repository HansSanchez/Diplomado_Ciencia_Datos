{
 "cells": [
  {
   "cell_type": "code",
   "execution_count": 1,
   "id": "f97c1889",
   "metadata": {},
   "outputs": [],
   "source": [
    "# Clase para personalización\n",
    "class bcolors:\n",
    "    WARNING = '\\033[93m'\n",
    "    FAIL = '\\033[91m'"
   ]
  },
  {
   "cell_type": "code",
   "execution_count": 2,
   "id": "30371d5c",
   "metadata": {},
   "outputs": [
    {
     "name": "stdout",
     "output_type": "stream",
     "text": [
      "Digite su fecha de nacimiento en Año-Mes-Día: 1999-03-05\n",
      "23 Años\n",
      "Volver a calcular SI/NO: s\n",
      "Digite su fecha de nacimiento en Año-Mes-Día: 1959-06-03\n",
      "63 Años\n",
      "Volver a calcular SI/NO: s\n",
      "Digite su fecha de nacimiento en Año-Mes-Día: 1982-04-28\n",
      "40 Años\n",
      "Volver a calcular SI/NO: s\n",
      "Digite su fecha de nacimiento en Año-Mes-Día: ee-rr-or\n",
      "\u001b[91mRevisa el error =>  time data 'ee-rr-or' does not match format '%Y-%m-%d'\n"
     ]
    }
   ],
   "source": [
    "# Funtion 1 - Age\n",
    "from datetime import date, datetime  # Importación de librerías\n",
    "    \n",
    "# Control de errores\n",
    "try:\n",
    "    # Definición de variables\n",
    "    input_1 = input(\"Digite su fecha de nacimiento en Año-Mes-Día: \") # Captura de la fecha del usuario\n",
    "    date_of_birth = datetime.strptime(input_1, '%Y-%m-%d').date() # Conversión de String a Date para cálculo\n",
    "    calculate = 'SI'\n",
    "    while calculate == 'SI':    \n",
    "        # Definición de función\n",
    "        def calculateAge(date_of_birth):\n",
    "            days_in_year = 365.2425 # Variable constante\n",
    "            age = int((date.today() - date_of_birth).days / days_in_year) # Cálculo de edad\n",
    "            return age # Retorno de cálculo\n",
    "\n",
    "        # Llamado e impresión de la función\n",
    "        print(calculateAge(date_of_birth), \"Años\")\n",
    "        \n",
    "        # Captura de variable en tiempo de ejecución\n",
    "        calculate = input(\"Volver a calcular SI/NO: \") # Captura de la fecha del usuario\n",
    "        \n",
    "        # Validación de la respuesta del usuario\n",
    "        if calculate == 'SI' or calculate == 'si' or calculate == 'Si' or calculate == 'sI' or calculate == 's' or calculate == 'S':\n",
    "            calculate = 'SI' # Asignación para no cambiar while\n",
    "            input_1 = input(\"Digite su fecha de nacimiento en Año-Mes-Día: \") # Captura de la fecha del usuario\n",
    "            date_of_birth = datetime.strptime(input_1, '%Y-%m-%d').date() # Conversión de String a Date para cálculo\n",
    "        else: break; # Cierre del ciclo\n",
    "except Exception as e: \n",
    "    print(bcolors.FAIL + \"Revisa el error => \", e) # Impresión del error personalizado"
   ]
  },
  {
   "cell_type": "code",
   "execution_count": 3,
   "id": "46ba9f2c",
   "metadata": {},
   "outputs": [
    {
     "name": "stdout",
     "output_type": "stream",
     "text": [
      "Digite la frase que requiere centrar: Impresión de la frase centrada (80 columnas)\n",
      "\n",
      "==================Impresión de la frase centrada (80 columnas)=================="
     ]
    }
   ],
   "source": [
    "# Funtion 2 - Center\n",
    "\n",
    "# Control de errores\n",
    "try:\n",
    "    # Definición de variables\n",
    "    input_1 = input(\"Digite la frase que requiere centrar: \") # Captura de la frase del usuario\n",
    "    calculate_spaces = int(40 - len(input_1) / 2)\n",
    "\n",
    "    # Definición de función\n",
    "    def WriteCentered(calculate_spaces):\n",
    "        # Construcción parte 1\n",
    "        for i in range(calculate_spaces): \n",
    "            print(\"=\", end=\"\")\n",
    "            \n",
    "        # Construcción parte 2\n",
    "        print(input_1, end=\"\") \n",
    "        \n",
    "        # Construcción parte 3\n",
    "        for i in range(calculate_spaces): \n",
    "            print(\"\", end=\"=\") \n",
    "        \n",
    "        # Retorno de impresiones\n",
    "        return\n",
    "\n",
    "    # Espacio estético\n",
    "    print(\"\")\n",
    "    WriteCentered(calculate_spaces) # Impresión de la frase centrada (80 columnas)\n",
    "except Exception as e: \n",
    "    print(bcolors.FAIL + \"Revisa el error => \", e) # Impresión del error personalizado"
   ]
  },
  {
   "cell_type": "markdown",
   "id": "fd0be2eb",
   "metadata": {},
   "source": [
    "<h5>Evidencia</h5>\n",
    "<br>\n",
    "<a href=\"https://www.contadordecaracteres.com/\">Contador de caracteres</a>\n",
    "<img src=\"./Recursos/80.png\">"
   ]
  },
  {
   "cell_type": "code",
   "execution_count": 4,
   "id": "5d211130",
   "metadata": {},
   "outputs": [
    {
     "name": "stdout",
     "output_type": "stream",
     "text": [
      "Digite la frase que requiere transformar: Impresión de la frases\n",
      "\n",
      "1). Frase original => Impresión de la frases\n",
      "2). Frase resaltada (bold) => <b>Impresión de la frases</b>\n",
      "3). Frase en Itálica => <i>Impresión de la frases</i>\n"
     ]
    }
   ],
   "source": [
    "# Funtion 3 - Decorate Text\n",
    "\n",
    "# Control de errores\n",
    "try:\n",
    "    # Captura de la frase del usuario\n",
    "    input_1 = input(\"Digite la frase que requiere transformar: \")\n",
    "    \n",
    "    def make_bold(method):\n",
    "        def makebold_wrapper(self):\n",
    "            return \"<b>{0}</b>\".format(method(self))\n",
    "        return makebold_wrapper\n",
    "    \n",
    "    def make_italic(method):\n",
    "        def makeitalic_wrapper(self):\n",
    "            return \"<i>{0}</i>\".format(method(self))\n",
    "        return makeitalic_wrapper\n",
    "    \n",
    "    class Text:\n",
    "        def __init__(self, input_1):\n",
    "            self.input_1 = input_1\n",
    "\n",
    "        def print_self(self):\n",
    "            print(self.input_1)\n",
    "\n",
    "        @make_bold\n",
    "        def text_blod(self):\n",
    "            return self.input_1\n",
    "        \n",
    "        @make_italic\n",
    "        def text_italic(self):\n",
    "            return self.input_1\n",
    "        \n",
    "    print(\"\")\n",
    "    print(\"1). Frase original => \", end=\"\")\n",
    "    t = Text(input_1)\n",
    "    t.print_self()\n",
    "    print(\"2). Frase resaltada (bold) => \", end=\"\")\n",
    "    print(t.text_blod())\n",
    "    print(\"3). Frase en Itálica => \", end=\"\")\n",
    "    print(t.text_italic())\n",
    "except Exception as e: \n",
    "    print(bcolors.FAIL + \"Revisa el error => \", e) # Impresión del error personalizado"
   ]
  },
  {
   "cell_type": "code",
   "execution_count": 5,
   "id": "9a56b70c",
   "metadata": {},
   "outputs": [
    {
     "name": "stdout",
     "output_type": "stream",
     "text": [
      "Digite el primer número 10\n",
      "Digite el segundo número: 2\n",
      "El número: 10 es multiplo de  2\n",
      "\n",
      "Volver a calcular SI/NO: s\n",
      "\n",
      "Digite el primer número 5\n",
      "Digite el segundo número: 3\n",
      "El número:  5  NO es multiplo de  3\n",
      "\n",
      "Volver a calcular SI/NO: SI\n",
      "\n",
      "Digite el primer número 99\n",
      "Digite el segundo número: 9\n",
      "El número: 99 es multiplo de  9\n",
      "\n",
      "Volver a calcular SI/NO: NO\n",
      "\n"
     ]
    }
   ],
   "source": [
    "# Funtion 4 - Multiple\n",
    "\n",
    "# Control de errores\n",
    "try:\n",
    "    # Definición de variables\n",
    "    input_1 = int(input(\"Digite el primer número \")) # Captura N°1\n",
    "    input_2 = int(input(\"Digite el segundo número: \")) # Captura N°2\n",
    "    var_continue = 'SI'\n",
    "    while var_continue == 'SI':  \n",
    "        # Definición de función\n",
    "        def Multiple(input_1, input_2):\n",
    "            if input_1 % input_2 == 0: print(\"El número:\", input_1, \"es multiplo de \", input_2 )\n",
    "            else: print(\"El número: \", input_1, \" NO es multiplo de \", input_2 )\n",
    "            # Retorno de impresiones\n",
    "            return\n",
    "\n",
    "        Multiple(input_1,input_2) # Impresión del cálculo\n",
    "        \n",
    "        # Espacio estético\n",
    "        print(\"\")\n",
    "        \n",
    "        # Captura de variable en tiempo de ejecución\n",
    "        var_continue = input(\"Volver a calcular SI/NO: \") # Captura de la fecha del usuario\n",
    "\n",
    "        # Espacio estético\n",
    "        print(\"\")\n",
    "        \n",
    "        # Validación de la respuesta del usuario\n",
    "        if var_continue == 'SI' or var_continue == 'si' or var_continue == 'Si' or var_continue == 'sI' or var_continue == 's' or var_continue == 'S':\n",
    "            var_continue = 'SI'\n",
    "            input_1 = int(input(\"Digite el primer número \")) # Captura N°1\n",
    "            input_2 = int(input(\"Digite el segundo número: \")) # Captura N°2\n",
    "        else: break; # Cierre del ciclo\n",
    "except Exception as e: \n",
    "    print(bcolors.FAIL + \"Revisa el error => \", e) # Impresión del error personalizado"
   ]
  },
  {
   "cell_type": "code",
   "execution_count": 6,
   "id": "ed141d6c",
   "metadata": {},
   "outputs": [
    {
     "name": "stdout",
     "output_type": "stream",
     "text": [
      "La temperatura media de Bogotá del 1 al 24 de octubre es : 16.542 °\n"
     ]
    }
   ],
   "source": [
    "# Funtion 5 - Medium temperature\n",
    "\n",
    "# Control de errores\n",
    "try:\n",
    "    # Definición de función\n",
    "    def Temperature(temperatures):\n",
    "        medium = sum(temperatures) / len(temperatures)\n",
    "        return round(medium, 3)\n",
    "    \n",
    "    # Definición de variable (Datos inventados)\n",
    "    temperatures = [20,18,17,19,19,18,17,17,17,15,10,11,12,18,18,18,14,15,17,18,16,20,22,11]\n",
    "    \n",
    "    # Impresión del cálculo\n",
    "    print(\"La temperatura media de Bogotá del 1 al 24 de octubre es :\",  Temperature(temperatures),\"°\")\n",
    "except Exception as e: \n",
    "    print(bcolors.FAIL + \"Revisa el error => \", e) # Impresión del error personalizado"
   ]
  },
  {
   "cell_type": "code",
   "execution_count": 7,
   "id": "f5b2c126",
   "metadata": {},
   "outputs": [
    {
     "name": "stdout",
     "output_type": "stream",
     "text": [
      "Digite la frase a convertir: Hola,tú\n",
      "Frase original =>  Hola,tú\n",
      "Frase convertida =>   H o l a , t ú \n"
     ]
    }
   ],
   "source": [
    "# Funtion 6 - Convert spacing\n",
    "\n",
    "# Control de errores\n",
    "try:\n",
    "    # Definición de función\n",
    "    def ConvertSpacing(input_1):\n",
    "        input_spacing = input_1.replace(\"\",\" \")\n",
    "        input_spacing.strip()\n",
    "        return input_spacing\n",
    "    \n",
    "    # Captura de la frase del usuario\n",
    "    input_1 = input(\"Digite la frase a convertir: \")\n",
    "    \n",
    "    # Impresión de la conversión\n",
    "    print(\"Frase original => \", input_1)\n",
    "    print(\"Frase convertida => \", ConvertSpacing(input_1))\n",
    "except Exception as e: \n",
    "    print(bcolors.FAIL + \"Revisa el error => \", e) # Impresión del error personalizado"
   ]
  },
  {
   "cell_type": "code",
   "execution_count": 8,
   "id": "89263f1b",
   "metadata": {},
   "outputs": [
    {
     "name": "stdout",
     "output_type": "stream",
     "text": [
      "El valor máximo es : 22\n",
      "El valor mínimo es : 8\n"
     ]
    }
   ],
   "source": [
    "# Funtion 7 - Calculate Max and Min\n",
    "\n",
    "# Control de errores\n",
    "try:\n",
    "    # Definición de función\n",
    "    def calculateMax(values):\n",
    "        var_max = max(values)\n",
    "        return var_max\n",
    "    \n",
    "    def calculateMin(values):\n",
    "        var_min = min(values)\n",
    "        return var_min\n",
    "    \n",
    "    # Definición de variable (Datos inventados)\n",
    "    values = [20,18,17,19,19,18,17,17,8,15,10,11,12,18,18,18,14,15,17,18,16,20,22,11]\n",
    "    \n",
    "    # Impresión del cálculo\n",
    "    print(\"El valor máximo es :\",  calculateMax(values))\n",
    "    print(\"El valor mínimo es :\",  calculateMin(values))\n",
    "    \n",
    "except Exception as e: \n",
    "    print(bcolors.FAIL + \"Revisa el error => \", e) # Impresión del error personalizado"
   ]
  },
  {
   "cell_type": "code",
   "execution_count": 9,
   "id": "46e503c6",
   "metadata": {},
   "outputs": [
    {
     "name": "stdout",
     "output_type": "stream",
     "text": [
      "Digite el valor del radio de la circunferencia: 3\n",
      "El área del circulo con radio  3.0 es =>  28.274\n",
      "El perimetro del circulo con radio  3.0 es =>  18.85\n",
      "\n",
      "Volver a calcular SI/NO: si\n",
      "Digite el valor del radio de la circunferencia: 5\n",
      "El área del circulo con radio  5.0 es =>  78.54\n",
      "El perimetro del circulo con radio  5.0 es =>  31.416\n",
      "\n",
      "Volver a calcular SI/NO: si\n",
      "Digite el valor del radio de la circunferencia: 7.89\n",
      "El área del circulo con radio  7.89 es =>  195.571\n",
      "El perimetro del circulo con radio  7.89 es =>  49.574\n",
      "\n",
      "Volver a calcular SI/NO: no\n"
     ]
    }
   ],
   "source": [
    "# Funtion 8 - Area and perimeter\n",
    "\n",
    "import math # Importación de librería\n",
    "\n",
    "# Control de errores\n",
    "try:\n",
    "    # Definición de variables\n",
    "    input_1 = float(input(\"Digite el valor del radio de la circunferencia: \")) # Captura del valor\n",
    "    calculate = 'SI'\n",
    "    while calculate == 'SI': \n",
    "        # Definición de función\n",
    "        def Area(input_1):\n",
    "            area = math.pi * (input_1**2)\n",
    "            return round(area, 3) # Retorno de cálculo\n",
    "\n",
    "        def Perimeter(input_1):\n",
    "            perimeter = 2 * math.pi * input_1\n",
    "            return round(perimeter, 3) # Retorno de cálculono\n",
    "\n",
    "        # Impresión del cálculo\n",
    "        print(\"El área del circulo con radio \", input_1 ,\"es => \", Area(input_1))\n",
    "        print(\"El perimetro del circulo con radio \", input_1 ,\"es => \", Perimeter(input_1))\n",
    "        print(\"\")\n",
    "        \n",
    "        # Captura de variable en tiempo de ejecución\n",
    "        calculate = input(\"Volver a calcular SI/NO: \") # Captura de la fecha del usuario\n",
    "        \n",
    "        # Validación de la respuesta del usuario\n",
    "        if calculate == 'SI' or calculate == 'si' or calculate == 'Si' or calculate == 'sI' or calculate == 's' or calculate == 'S':\n",
    "            calculate = 'SI' # Asignación para no cambiar while\n",
    "            # Captura del valor\n",
    "            input_1 = float(input(\"Digite el valor del radio de la circunferencia: \"))\n",
    "        else: break; # Cierre del ciclo\n",
    "except Exception as e: \n",
    "    print(bcolors.FAIL + \"Revisa el error => \", e) # Impresión del error personalizado"
   ]
  },
  {
   "cell_type": "code",
   "execution_count": 10,
   "id": "5fd61c5e",
   "metadata": {},
   "outputs": [
    {
     "name": "stdout",
     "output_type": "stream",
     "text": [
      "Usuario: aa\n",
      "Contraseña: \n",
      "Upss! algo salio mal, intentos fallidos =>  1\n",
      "Usuario: \n",
      "Contraseña: aa\n",
      "Upss! algo salio mal, intentos fallidos =>  2\n",
      "Usuario: usuario1\n",
      "Contraseña: asdasd\n",
      "Inicio de sesión exitoso bienvenid@  usuario1\n"
     ]
    }
   ],
   "source": [
    "# Funtion 9 - Login\n",
    "\n",
    "# Control de errores\n",
    "try:\n",
    "    # Definición de variable\n",
    "    input_1 = \"\"\n",
    "    input_password = \"\"\n",
    "    count = 0\n",
    "    \n",
    "    # Definición de función\n",
    "    def Login(input_user, input_password):\n",
    "        global count # Definición global\n",
    "        while count < 3: # Conteo de intentos\n",
    "            input_user = input(\"Usuario: \") # Captura del valor\n",
    "            input_password = input(\"Contraseña: \") # Captura del valor\n",
    "            if input_user == 'usuario1' and input_password == 'asdasd':\n",
    "                count = 3 # Finalización de conteo (igualo a 3 para que se cumpla la condición)\n",
    "                return print('Inicio de sesión exitoso bienvenid@ ', input_user) # Retorno de cálculo\n",
    "            else: \n",
    "                count += 1 # Conteo de intentos erroneos\n",
    "                print('Upss! algo salio mal, intentos fallidos => ', count) # Retorno de conteo de errores\n",
    "   \n",
    "    # Llamado de la validación\n",
    "    Login(input_user, input_password)\n",
    "except Exception as e: \n",
    "    print(bcolors.FAIL + \"Revisa el error => \", e) # Impresión del error personalizado"
   ]
  },
  {
   "cell_type": "code",
   "execution_count": 11,
   "id": "758ba96a",
   "metadata": {},
   "outputs": [
    {
     "name": "stdout",
     "output_type": "stream",
     "text": [
      "Digite el valor de su interés: 5\n",
      "120\n"
     ]
    }
   ],
   "source": [
    "# Funtion 10 - Factorial\n",
    "\n",
    "# Control de errores\n",
    "try:   \n",
    "    # Definición de función\n",
    "    def Factorial(input_1):\n",
    "        if input_1 == 0: return 1\n",
    "        else: return input_1 * Factorial(input_1 - 1)\n",
    "   \n",
    "    # Definición de variable\n",
    "    input_1 = int(input(\"Digite el valor de su interés: \")) # Captura del valor\n",
    "    # Llamado de la función\n",
    "    print(Factorial(input_1))\n",
    "except Exception as e: \n",
    "    print(bcolors.FAIL + \"Revisa el error => \", e) # Impresión del error personalizado"
   ]
  },
  {
   "cell_type": "code",
   "execution_count": 12,
   "id": "909546cc",
   "metadata": {},
   "outputs": [
    {
     "name": "stdout",
     "output_type": "stream",
     "text": [
      "Digite los segundos de su interés: 3800\n",
      "1 horas 3 minutos 20 segundos\n"
     ]
    }
   ],
   "source": [
    "# Funtion 11.1 - Seconds\n",
    "\n",
    "# Control de errores\n",
    "try:   \n",
    "    # Definición de función\n",
    "    def Seconds(input_1):\n",
    "        hours = round(input_1/3600)\n",
    "        minutes = round((input_1 - (hours * 3600))/60)\n",
    "        seconds = round(input_1 - ((hours * 3600) + (minutes * 60)))\n",
    "        return print(hours , \"horas\", minutes, \"minutos\", seconds, \"segundos\")\n",
    "   \n",
    "    # Definición de variable\n",
    "    input_1 = int(input(\"Digite los segundos de su interés: \")) # Captura del valor\n",
    "    \n",
    "    # Llamado de la función\n",
    "    Seconds(input_1)\n",
    "except Exception as e: \n",
    "    print(bcolors.FAIL + \"Revisa el error => \", e) # Impresión del error personalizado"
   ]
  }
 ],
 "metadata": {
  "kernelspec": {
   "display_name": "Python 3 (ipykernel)",
   "language": "python",
   "name": "python3"
  },
  "language_info": {
   "codemirror_mode": {
    "name": "ipython",
    "version": 3
   },
   "file_extension": ".py",
   "mimetype": "text/x-python",
   "name": "python",
   "nbconvert_exporter": "python",
   "pygments_lexer": "ipython3",
   "version": "3.9.12"
  }
 },
 "nbformat": 4,
 "nbformat_minor": 5
}
