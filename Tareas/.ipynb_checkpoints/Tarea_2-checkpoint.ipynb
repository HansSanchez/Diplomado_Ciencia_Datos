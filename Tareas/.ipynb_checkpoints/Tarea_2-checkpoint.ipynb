{
 "cells": [
  {
   "cell_type": "code",
   "execution_count": 1,
   "id": "f97c1889",
   "metadata": {},
   "outputs": [],
   "source": [
    "# Clase para personalización\n",
    "class bcolors:\n",
    "    WARNING = '\\033[93m'\n",
    "    FAIL = '\\033[91m'"
   ]
  },
  {
   "cell_type": "code",
   "execution_count": 2,
   "id": "30371d5c",
   "metadata": {},
   "outputs": [
    {
     "name": "stdout",
     "output_type": "stream",
     "text": [
      "Digite su fecha de nacimiento en Año-Mes-Día: 1999-03-05\n",
      "23 Años\n",
      "Volver a calcular SI/NO: SI\n",
      "Digite su fecha de nacimiento en Año-Mes-Día: 1959-06-03\n",
      "63 Años\n",
      "Volver a calcular SI/NO: s\n",
      "Digite su fecha de nacimiento en Año-Mes-Día: 1982-04-28\n",
      "40 Años\n",
      "Volver a calcular SI/NO: si\n",
      "Digite su fecha de nacimiento en Año-Mes-Día: prueba-de-error\n",
      "\u001b[91mRevisa el error =>  time data 'prueba-de-error' does not match format '%Y-%m-%d'\n"
     ]
    }
   ],
   "source": [
    "# Funtion 1 - Age\n",
    "from datetime import date, datetime  # Importación de librerías\n",
    "    \n",
    "# Control de errores\n",
    "try:\n",
    "    # Definición de variables\n",
    "    input_1 = input(\"Digite su fecha de nacimiento en Año-Mes-Día: \") # Captura de la fecha del usuario\n",
    "    date_of_birth = datetime.strptime(input_1, '%Y-%m-%d').date() # Conversión de String a Date para cálculo\n",
    "    calculate = 'SI'\n",
    "    while calculate == 'SI':    \n",
    "        # Definición de función\n",
    "        def calculateAge(date_of_birth):\n",
    "            days_in_year = 365.2425 # Variable constante\n",
    "            age = int((date.today() - date_of_birth).days / days_in_year) # Cálculo de edad\n",
    "            return age # Retorno de cálculo\n",
    "\n",
    "        # Llamado e impresión de la función\n",
    "        print(calculateAge(date_of_birth), \"Años\")\n",
    "        \n",
    "        # Captura de variable en tiempo de ejecución\n",
    "        calculate = input(\"Volver a calcular SI/NO: \") # Captura de la fecha del usuario\n",
    "        \n",
    "        # Validación de la respuesta del usuario\n",
    "        if calculate == 'SI' or calculate == 'si' or calculate == 'Si' or calculate == 'sI' or calculate == 's' or calculate == 'S':\n",
    "            calculate = 'SI' # Asignación para no cambiar while\n",
    "            input_1 = input(\"Digite su fecha de nacimiento en Año-Mes-Día: \") # Captura de la fecha del usuario\n",
    "            date_of_birth = datetime.strptime(input_1, '%Y-%m-%d').date() # Conversión de String a Date para cálculo\n",
    "        else: break; # Cierre del ciclo\n",
    "except Exception as e: \n",
    "    print(bcolors.FAIL + \"Revisa el error => \", e) # Impresión del error personalizado"
   ]
  },
  {
   "cell_type": "code",
   "execution_count": 3,
   "id": "46ba9f2c",
   "metadata": {},
   "outputs": [
    {
     "name": "stdout",
     "output_type": "stream",
     "text": [
      "Digite la frase que requiere centrar: Impresión de la frase centrada (80 columnas)\n",
      "\n",
      "==================Impresión de la frase centrada (80 columnas)=================="
     ]
    }
   ],
   "source": [
    "# Funtion 2 - Center\n",
    "\n",
    "# Control de errores\n",
    "try:\n",
    "    # Definición de variables\n",
    "    input_1 = input(\"Digite la frase que requiere centrar: \") # Captura de la frase del usuario\n",
    "    calculate_spaces = int(40 - len(input_1) / 2)\n",
    "\n",
    "    # Definición de función\n",
    "    def EscribirCentrado(calculate_spaces):\n",
    "        # Construcción parte 1\n",
    "        for i in range(calculate_spaces): \n",
    "            print(\"=\", end=\"\")\n",
    "            \n",
    "        # Construcción parte 2\n",
    "        print(input_1, end=\"\") \n",
    "        \n",
    "        # Construcción parte 3\n",
    "        for i in range(calculate_spaces): \n",
    "            print(\"\", end=\"=\") \n",
    "        \n",
    "        # Retorno de impresiones\n",
    "        return\n",
    "\n",
    "    # Espacio estético\n",
    "    print(\"\")\n",
    "    EscribirCentrado(calculate_spaces) # Impresión de la frase centrada (80 columnas)\n",
    "except Exception as e: \n",
    "    print(bcolors.FAIL + \"Revisa el error => \", e) # Impresión del error personalizado"
   ]
  },
  {
   "cell_type": "code",
   "execution_count": null,
   "id": "fec1e297",
   "metadata": {},
   "outputs": [],
   "source": []
  }
 ],
 "metadata": {
  "kernelspec": {
   "display_name": "Python 3 (ipykernel)",
   "language": "python",
   "name": "python3"
  },
  "language_info": {
   "codemirror_mode": {
    "name": "ipython",
    "version": 3
   },
   "file_extension": ".py",
   "mimetype": "text/x-python",
   "name": "python",
   "nbconvert_exporter": "python",
   "pygments_lexer": "ipython3",
   "version": "3.9.12"
  }
 },
 "nbformat": 4,
 "nbformat_minor": 5
}
