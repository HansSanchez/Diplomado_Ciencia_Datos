{
 "cells": [
  {
   "cell_type": "markdown",
   "id": "806b1702",
   "metadata": {},
   "source": [
    "<h1 style=\"text-align: center\">Tarea 3 - Cuaderno 2</h1>"
   ]
  },
  {
   "cell_type": "markdown",
   "id": "b28395d8",
   "metadata": {},
   "source": [
    "<h5>Estilos para el cuderno en general</h5>"
   ]
  },
  {
   "cell_type": "code",
   "execution_count": 1,
   "id": "435b6c3b",
   "metadata": {
    "scrolled": true
   },
   "outputs": [
    {
     "data": {
      "text/html": [
       "<style>\n",
       "    .badge {\n",
       "        display: inline-block;\n",
       "        padding: 0.25em 0.4em;\n",
       "        font-size: 75%;\n",
       "        font-weight: 700;\n",
       "        line-height: 1;\n",
       "        text-align: center;\n",
       "        white-space: nowrap;\n",
       "        vertical-align: baseline;\n",
       "        border-radius: 0.25rem;\n",
       "        transition: color 0.15s ease-in-out, background-color 0.15s ease-in-out, border-color 0.15s ease-in-out, box-shadow 0.15s ease-in-out;\n",
       "    }\n",
       "    \n",
       "    .badge-success {\n",
       "        color: #fff;\n",
       "        background-color: #2eb85c;\n",
       "    }\n",
       "</style>\n"
      ],
      "text/plain": [
       "<IPython.core.display.HTML object>"
      ]
     },
     "metadata": {},
     "output_type": "display_data"
    }
   ],
   "source": [
    "%%html\n",
    "<style>\n",
    "    .badge {\n",
    "        display: inline-block;\n",
    "        padding: 0.25em 0.4em;\n",
    "        font-size: 75%;\n",
    "        font-weight: 700;\n",
    "        line-height: 1;\n",
    "        text-align: center;\n",
    "        white-space: nowrap;\n",
    "        vertical-align: baseline;\n",
    "        border-radius: 0.25rem;\n",
    "        transition: color 0.15s ease-in-out, background-color 0.15s ease-in-out, border-color 0.15s ease-in-out, box-shadow 0.15s ease-in-out;\n",
    "    }\n",
    "    \n",
    "    .badge-success {\n",
    "        color: #fff;\n",
    "        background-color: #2eb85c;\n",
    "    }\n",
    "</style>"
   ]
  },
  {
   "cell_type": "markdown",
   "id": "8e06684a",
   "metadata": {},
   "source": [
    "<h5>Objetivos</h5>"
   ]
  },
  {
   "cell_type": "markdown",
   "id": "a084431f",
   "metadata": {},
   "source": [
    "<ol>\n",
    "    <li>\n",
    "        Consiga el conjunto de datos iris.csv. En el repositorio de Aprendizaje Profundo encuentra alguna versión\n",
    "        <span class=\"badge badge-success\">HECHO</span>\n",
    "    </li>\n",
    "    <li>\n",
    "        Escriba una clase con las siguientes funcionalidades:\n",
    "        <ul>\n",
    "            <li>\n",
    "                Al instanciar un objeto, lee un conjunto de datos numéricos, por ejemplo puede usar el mismo \n",
    "                conjunto de datos iris.csv, instancie los datos en un dataframe de Pandas.\n",
    "                <span class=\"badge badge-success\">HECHO</span> \n",
    "            </li>\n",
    "            <li>\n",
    "                Implemente un método que calcule las estadísticas descriptivas básicas de cada una de las \n",
    "                variables.\n",
    "                <span class=\"badge badge-success\">HECHO</span> \n",
    "            </li>\n",
    "            <li>\n",
    "                Implemente un método que entregue los nombre de las variables disponibles.\n",
    "                <span class=\"badge badge-success\">HECHO</span> \n",
    "            </li>\n",
    "            <li>\n",
    "                Implemente un método que reciba el nombre de una variable disponible dentro del objeto (en el \n",
    "                dataframe) y regrese:\n",
    "                <br>\n",
    "                <ul>\n",
    "                    <li>\n",
    "                        Sus estadísticas básicas: <span class=\"badge badge-success\">HECHO</span> \n",
    "                        <ul>\n",
    "                            <li>Media</li>\n",
    "                            <li>Mediana</li>\n",
    "                            <li>Desviación</li>\n",
    "                            <li>Percentil q25</li>\n",
    "                            <li>Percentil q50</li>\n",
    "                            <li>Percentil q75</li>\n",
    "                            <li>Dibuje un histograma de la distribución de la variable</li>\n",
    "                        </ul>\n",
    "                    </li>\n",
    "                </ul>\n",
    "            </li>\n",
    "        </ul>\n",
    "    </li>\n",
    "</ol>"
   ]
  },
  {
   "cell_type": "markdown",
   "id": "43dfbddc",
   "metadata": {},
   "source": [
    "<h5>Definición de clase e importación de libreria</h5>"
   ]
  },
  {
   "cell_type": "code",
   "execution_count": 2,
   "id": "f6051414",
   "metadata": {},
   "outputs": [
    {
     "data": {
      "text/html": [
       "<div>\n",
       "<style scoped>\n",
       "    .dataframe tbody tr th:only-of-type {\n",
       "        vertical-align: middle;\n",
       "    }\n",
       "\n",
       "    .dataframe tbody tr th {\n",
       "        vertical-align: top;\n",
       "    }\n",
       "\n",
       "    .dataframe thead th {\n",
       "        text-align: right;\n",
       "    }\n",
       "</style>\n",
       "<table border=\"1\" class=\"dataframe\">\n",
       "  <thead>\n",
       "    <tr style=\"text-align: right;\">\n",
       "      <th></th>\n",
       "      <th>Id</th>\n",
       "      <th>SepalLengthCm</th>\n",
       "      <th>SepalWidthCm</th>\n",
       "      <th>PetalLengthCm</th>\n",
       "      <th>PetalWidthCm</th>\n",
       "      <th>Species</th>\n",
       "    </tr>\n",
       "  </thead>\n",
       "  <tbody>\n",
       "    <tr>\n",
       "      <th>0</th>\n",
       "      <td>1</td>\n",
       "      <td>5.1</td>\n",
       "      <td>3.5</td>\n",
       "      <td>1.4</td>\n",
       "      <td>0.2</td>\n",
       "      <td>Iris-setosa</td>\n",
       "    </tr>\n",
       "    <tr>\n",
       "      <th>1</th>\n",
       "      <td>2</td>\n",
       "      <td>4.9</td>\n",
       "      <td>3.0</td>\n",
       "      <td>1.4</td>\n",
       "      <td>0.2</td>\n",
       "      <td>Iris-setosa</td>\n",
       "    </tr>\n",
       "    <tr>\n",
       "      <th>2</th>\n",
       "      <td>3</td>\n",
       "      <td>4.7</td>\n",
       "      <td>3.2</td>\n",
       "      <td>1.3</td>\n",
       "      <td>0.2</td>\n",
       "      <td>Iris-setosa</td>\n",
       "    </tr>\n",
       "    <tr>\n",
       "      <th>3</th>\n",
       "      <td>4</td>\n",
       "      <td>4.6</td>\n",
       "      <td>3.1</td>\n",
       "      <td>1.5</td>\n",
       "      <td>0.2</td>\n",
       "      <td>Iris-setosa</td>\n",
       "    </tr>\n",
       "    <tr>\n",
       "      <th>4</th>\n",
       "      <td>5</td>\n",
       "      <td>5.0</td>\n",
       "      <td>3.6</td>\n",
       "      <td>1.4</td>\n",
       "      <td>0.2</td>\n",
       "      <td>Iris-setosa</td>\n",
       "    </tr>\n",
       "    <tr>\n",
       "      <th>...</th>\n",
       "      <td>...</td>\n",
       "      <td>...</td>\n",
       "      <td>...</td>\n",
       "      <td>...</td>\n",
       "      <td>...</td>\n",
       "      <td>...</td>\n",
       "    </tr>\n",
       "    <tr>\n",
       "      <th>145</th>\n",
       "      <td>146</td>\n",
       "      <td>6.7</td>\n",
       "      <td>3.0</td>\n",
       "      <td>5.2</td>\n",
       "      <td>2.3</td>\n",
       "      <td>Iris-virginica</td>\n",
       "    </tr>\n",
       "    <tr>\n",
       "      <th>146</th>\n",
       "      <td>147</td>\n",
       "      <td>6.3</td>\n",
       "      <td>2.5</td>\n",
       "      <td>5.0</td>\n",
       "      <td>1.9</td>\n",
       "      <td>Iris-virginica</td>\n",
       "    </tr>\n",
       "    <tr>\n",
       "      <th>147</th>\n",
       "      <td>148</td>\n",
       "      <td>6.5</td>\n",
       "      <td>3.0</td>\n",
       "      <td>5.2</td>\n",
       "      <td>2.0</td>\n",
       "      <td>Iris-virginica</td>\n",
       "    </tr>\n",
       "    <tr>\n",
       "      <th>148</th>\n",
       "      <td>149</td>\n",
       "      <td>6.2</td>\n",
       "      <td>3.4</td>\n",
       "      <td>5.4</td>\n",
       "      <td>2.3</td>\n",
       "      <td>Iris-virginica</td>\n",
       "    </tr>\n",
       "    <tr>\n",
       "      <th>149</th>\n",
       "      <td>150</td>\n",
       "      <td>5.9</td>\n",
       "      <td>3.0</td>\n",
       "      <td>5.1</td>\n",
       "      <td>1.8</td>\n",
       "      <td>Iris-virginica</td>\n",
       "    </tr>\n",
       "  </tbody>\n",
       "</table>\n",
       "<p>150 rows × 6 columns</p>\n",
       "</div>"
      ],
      "text/plain": [
       "      Id  SepalLengthCm  SepalWidthCm  PetalLengthCm  PetalWidthCm  \\\n",
       "0      1            5.1           3.5            1.4           0.2   \n",
       "1      2            4.9           3.0            1.4           0.2   \n",
       "2      3            4.7           3.2            1.3           0.2   \n",
       "3      4            4.6           3.1            1.5           0.2   \n",
       "4      5            5.0           3.6            1.4           0.2   \n",
       "..   ...            ...           ...            ...           ...   \n",
       "145  146            6.7           3.0            5.2           2.3   \n",
       "146  147            6.3           2.5            5.0           1.9   \n",
       "147  148            6.5           3.0            5.2           2.0   \n",
       "148  149            6.2           3.4            5.4           2.3   \n",
       "149  150            5.9           3.0            5.1           1.8   \n",
       "\n",
       "            Species  \n",
       "0       Iris-setosa  \n",
       "1       Iris-setosa  \n",
       "2       Iris-setosa  \n",
       "3       Iris-setosa  \n",
       "4       Iris-setosa  \n",
       "..              ...  \n",
       "145  Iris-virginica  \n",
       "146  Iris-virginica  \n",
       "147  Iris-virginica  \n",
       "148  Iris-virginica  \n",
       "149  Iris-virginica  \n",
       "\n",
       "[150 rows x 6 columns]"
      ]
     },
     "execution_count": 2,
     "metadata": {},
     "output_type": "execute_result"
    }
   ],
   "source": [
    "# Importación de librerias\n",
    "import pandas as pd\n",
    "import numpy as np\n",
    "import matplotlib.pyplot as plot\n",
    "\n",
    "\n",
    "# Creación de una clase\n",
    "class Iris:\n",
    "    \n",
    "    # Función inicial o constructor \n",
    "    def __init__(self):\n",
    "        \n",
    "        # lectura del archivo\n",
    "        self.dateframe = pd.read_csv(r'../Recursos/Iris.csv')\n",
    "        \n",
    "    # Función de columnas disponibles\n",
    "    def available_columns(self):\n",
    "        \n",
    "        # Definición de variable para mejor visualización\n",
    "        columns = self.dateframe.columns\n",
    "\n",
    "        # Ciclo para impresión de valores\n",
    "        for column in columns:\n",
    "            print(column, end=\", \")\n",
    "          \n",
    "    # Función de estadísticas básicas\n",
    "    def basic_descriptive_statistics(self, specific_column = None): # None es para que sea opcional\n",
    "        \n",
    "        # Lisado de columnas para iteración\n",
    "        columns = list(self.dateframe.columns)\n",
    "        \n",
    "        # Variable gobal para validar tipos de datos\n",
    "        global valid\n",
    "        \n",
    "        # Si el usuario envía una columna de su interés\n",
    "        if specific_column:\n",
    "            \n",
    "            # Si la columna específica es un String\n",
    "            if type(specific_column) == str:\n",
    "                \n",
    "                # Si la columna específica es diferente al Id\n",
    "                if specific_column != 'Id':\n",
    "\n",
    "                    # Si la columna específica existe dentro del array\n",
    "                    if specific_column in columns:\n",
    "\n",
    "                        # Filtro en el dataframe según columna\n",
    "                        values = self.dateframe[specific_column]\n",
    "\n",
    "                        # Definición de array\n",
    "                        list_values = []\n",
    "\n",
    "                        # Ciclo para agregar todos los valores en un array para posterior iteración\n",
    "                        for value in values:\n",
    "\n",
    "                            # Si son valores cuantitativos\n",
    "                            if type(value) != str:\n",
    "                                \n",
    "                                #Agrega los valores a una lista\n",
    "                                list_values.append(value)\n",
    "                                \n",
    "                                # Valores validos\n",
    "                                valid = True\n",
    "\n",
    "                            # Si son valores cualitativos\n",
    "                            else: \n",
    "                                \n",
    "                                # Valores invalidos\n",
    "                                valid = False\n",
    "\n",
    "                        # Validación de valores cuantitativos y cualitativos\n",
    "                        if valid == False: \n",
    "                            print(\"No es posible cálcular los valores ya que sus datos no son cuantitativos...\\n\\nintentalo nuevamente.\")\n",
    "\n",
    "                        # Si la lista de valores tiene datos\n",
    "                        if list_values:\n",
    "\n",
    "                            # Llama la función de graficar\n",
    "                            self.graph(list_values, specific_column)\n",
    "\n",
    "                    # Si la columna específica NO existe\n",
    "                    else:\n",
    "                        print(\"No existe la columna que especificaste...\\n\\nintentalo nuevamente.\")\n",
    "\n",
    "                # Si la columna específica es igual al Id\n",
    "                else:\n",
    "                    print(\"Esta columna NO aplica ya que es el Id...\\n\\nintentalo nuevamente.\")\n",
    "            \n",
    "            # Si la columna específica NO es un String\n",
    "            else:\n",
    "                print(\"Lo que enviaste NO es un formato valido de consulta...\\n\\nintentalo nuevamente.\")\n",
    "                \n",
    "        # Si el usuario NO envía ninguna columna de interés\n",
    "        else:\n",
    "            \n",
    "            # Ciclo para recorrer las columnas del archivo\n",
    "            for column in columns:\n",
    "                \n",
    "                # Filtro en el dataframe según columna\n",
    "                list_variables = self.dateframe[column]\n",
    "\n",
    "                # Definición de array\n",
    "                list_values = []\n",
    "\n",
    "                # Ciclo para agregar todos los valores en un array para posterior iteración\n",
    "                for list_variable in list_variables: \n",
    "                    \n",
    "                    # Si los valores son cuantitativos\n",
    "                    if type(list_variable) != str:\n",
    "                        \n",
    "                        #Agrega los valores a una lista\n",
    "                        list_values.append(list_variable)\n",
    "\n",
    "                # Si la lista de valores tiene datos\n",
    "                if list_values:\n",
    "                    \n",
    "                    # Si la columna es diferente al Id cálcula\n",
    "                    if column != 'Id':\n",
    "                        \n",
    "                        # Separador\n",
    "                        for i in range(112): print('-', end=\"\")\n",
    "                            \n",
    "                        # Llama la función de graficar\n",
    "                        self.graph(list_values, column)\n",
    "                        \n",
    "            # Separador\n",
    "            for i in range(112): print('-', end=\"\")\n",
    "            \n",
    "    # Función para graficar (optimizar código)\n",
    "    def graph(self, list_values, column):\n",
    "        \n",
    "        # Título de columna por iteración\n",
    "        print(\"\\nTotal de datos en la variable \" , column , \" => \" , len(list_values), \"\\n\")\n",
    "\n",
    "        # Creación de diccionario para optimizar\n",
    "        results = {\n",
    "            \"Media\": round(np.mean(list_values), 3),\n",
    "            \"Mediana\": round(np.median(list_values), 3),\n",
    "            \"Desviación\": round(np.std(list_values), 3),\n",
    "            \"Percentil q25\": round(np.percentile(list_values, 25), 3),\n",
    "            \"Percentil q50\": round(np.percentile(list_values, 50), 3),\n",
    "            \"Percentil q75\": round(np.percentile(list_values, 75), 3)\n",
    "        }\n",
    "\n",
    "        # Impresión del diccionario\n",
    "        for key, values in results.items():\n",
    "            print(key, \" => \", values)\n",
    "\n",
    "        # Datos\n",
    "        mean = round(np.mean(list_values), 3), # Media de cada variable\n",
    "        std = round(np.std(list_values), 3) # Desviación de cada variable\n",
    "        data = np.random.normal(mean, std, len(list_values)) # Definción de datos\n",
    "\n",
    "        # Graficando histograma\n",
    "        plot.rcParams[\"figure.figsize\"] = (16, 10)\n",
    "        plot.hist(data, len(list_values), color='#F2AB6D', alpha=1, edgecolor = 'black',  linewidth=1)\n",
    "        plot.ylabel('Frequencia')\n",
    "        plot.xlabel('Valores')\n",
    "        plot.title('Histograma')\n",
    "        plot.grid(axis='both', color='k')\n",
    "        plot.show()\n",
    "\n",
    "# Instancia del objeto\n",
    "iris = Iris()\n",
    "\n",
    "# Acceso a la lectura del archivo Iris.csv\n",
    "iris.dateframe"
   ]
  },
  {
   "cell_type": "markdown",
   "id": "27fb2af6",
   "metadata": {},
   "source": [
    "<h5>Columnas disponibles a consultar</h5>"
   ]
  },
  {
   "cell_type": "code",
   "execution_count": 3,
   "id": "5a6d3033",
   "metadata": {},
   "outputs": [
    {
     "name": "stdout",
     "output_type": "stream",
     "text": [
      "Id, SepalLengthCm, SepalWidthCm, PetalLengthCm, PetalWidthCm, Species, "
     ]
    }
   ],
   "source": [
    "iris.available_columns()"
   ]
  },
  {
   "cell_type": "markdown",
   "id": "a090ad53",
   "metadata": {},
   "source": [
    "<h5>Función de estadísticas básicas</h5>"
   ]
  },
  {
   "cell_type": "code",
   "execution_count": 4,
   "id": "b310d615",
   "metadata": {},
   "outputs": [
    {
     "name": "stdout",
     "output_type": "stream",
     "text": [
      "----------------------------------------------------------------------------------------------------------------\n",
      "Total de datos en la variable  SepalLengthCm  =>  150 \n",
      "\n",
      "Media  =>  5.843\n",
      "Mediana  =>  5.8\n",
      "Desviación  =>  0.825\n",
      "Percentil q25  =>  5.1\n",
      "Percentil q50  =>  5.8\n",
      "Percentil q75  =>  6.4\n"
     ]
    },
    {
     "data": {
      "image/png": "[encoded data removed]",
      "text/plain": [
       "<Figure size 1152x720 with 1 Axes>"
      ]
     },
     "metadata": {
      "needs_background": "light"
     },
     "output_type": "display_data"
    },
    {
     "name": "stdout",
     "output_type": "stream",
     "text": [
      "----------------------------------------------------------------------------------------------------------------\n",
      "Total de datos en la variable  SepalWidthCm  =>  150 \n",
      "\n",
      "Media  =>  3.054\n",
      "Mediana  =>  3.0\n",
      "Desviación  =>  0.432\n",
      "Percentil q25  =>  2.8\n",
      "Percentil q50  =>  3.0\n",
      "Percentil q75  =>  3.3\n"
     ]
    },
    {
     "data": {
      "image/png": "[encoded data removed]",
      "text/plain": [
       "<Figure size 1152x720 with 1 Axes>"
      ]
     },
     "metadata": {
      "needs_background": "light"
     },
     "output_type": "display_data"
    },
    {
     "name": "stdout",
     "output_type": "stream",
     "text": [
      "----------------------------------------------------------------------------------------------------------------\n",
      "Total de datos en la variable  PetalLengthCm  =>  150 \n",
      "\n",
      "Media  =>  3.759\n",
      "Mediana  =>  4.35\n",
      "Desviación  =>  1.759\n",
      "Percentil q25  =>  1.6\n",
      "Percentil q50  =>  4.35\n",
      "Percentil q75  =>  5.1\n"
     ]
    },
    {
     "data": {
      "image/png": "[encoded data removed]",
      "text/plain": [
       "<Figure size 1152x720 with 1 Axes>"
      ]
     },
     "metadata": {
      "needs_background": "light"
     },
     "output_type": "display_data"
    },
    {
     "name": "stdout",
     "output_type": "stream",
     "text": [
      "----------------------------------------------------------------------------------------------------------------\n",
      "Total de datos en la variable  PetalWidthCm  =>  150 \n",
      "\n",
      "Media  =>  1.199\n",
      "Mediana  =>  1.3\n",
      "Desviación  =>  0.761\n",
      "Percentil q25  =>  0.3\n",
      "Percentil q50  =>  1.3\n",
      "Percentil q75  =>  1.8\n"
     ]
    },
    {
     "data": {
      "image/png": "[encoded data removed]",
      "text/plain": [
       "<Figure size 1152x720 with 1 Axes>"
      ]
     },
     "metadata": {
      "needs_background": "light"
     },
     "output_type": "display_data"
    },
    {
     "name": "stdout",
     "output_type": "stream",
     "text": [
      "----------------------------------------------------------------------------------------------------------------"
     ]
    }
   ],
   "source": [
    "# Ejemplo SIN parametros para graficar todas las variables cuantitativas\n",
    "iris.basic_descriptive_statistics()"
   ]
  },
  {
   "cell_type": "markdown",
   "id": "b077db5d",
   "metadata": {},
   "source": [
    "<h5>Función de estadísticas básicas <i>(Columna específica)</i></h5>"
   ]
  },
  {
   "cell_type": "code",
   "execution_count": 5,
   "id": "e803f30f",
   "metadata": {},
   "outputs": [
    {
     "name": "stdout",
     "output_type": "stream",
     "text": [
      "Esta columna NO aplica ya que es el Id...\n",
      "\n",
      "intentalo nuevamente.\n"
     ]
    }
   ],
   "source": [
    "iris.basic_descriptive_statistics('Id') # Ejemplo con parametro Id"
   ]
  },
  {
   "cell_type": "code",
   "execution_count": 6,
   "id": "d870670f",
   "metadata": {},
   "outputs": [
    {
     "name": "stdout",
     "output_type": "stream",
     "text": [
      "No es posible cálcular los valores ya que sus datos no son cuantitativos...\n",
      "\n",
      "intentalo nuevamente.\n"
     ]
    }
   ],
   "source": [
    "iris.basic_descriptive_statistics('Species') # Ejemplo con parametro cualitativo"
   ]
  },
  {
   "cell_type": "code",
   "execution_count": 7,
   "id": "7d84837d",
   "metadata": {},
   "outputs": [
    {
     "name": "stdout",
     "output_type": "stream",
     "text": [
      "No existe la columna que especificaste...\n",
      "\n",
      "intentalo nuevamente.\n"
     ]
    }
   ],
   "source": [
    "iris.basic_descriptive_statistics('BJs6dw62') # Ejemplo de cualquier cosa"
   ]
  },
  {
   "cell_type": "code",
   "execution_count": 8,
   "id": "983055f0",
   "metadata": {},
   "outputs": [
    {
     "name": "stdout",
     "output_type": "stream",
     "text": [
      "Lo que enviaste NO es un formato valido de consulta...\n",
      "\n",
      "intentalo nuevamente.\n"
     ]
    }
   ],
   "source": [
    "iris.basic_descriptive_statistics(65789) # Ejemplo de cualquier cosa de otro formato"
   ]
  },
  {
   "cell_type": "code",
   "execution_count": 9,
   "id": "3273b650",
   "metadata": {},
   "outputs": [
    {
     "name": "stdout",
     "output_type": "stream",
     "text": [
      "\n",
      "Total de datos en la variable  SepalLengthCm  =>  150 \n",
      "\n",
      "Media  =>  5.843\n",
      "Mediana  =>  5.8\n",
      "Desviación  =>  0.825\n",
      "Percentil q25  =>  5.1\n",
      "Percentil q50  =>  5.8\n",
      "Percentil q75  =>  6.4\n"
     ]
    },
    {
     "data": {
      "image/png": "[encoded data removed]",
      "text/plain": [
       "<Figure size 1152x720 with 1 Axes>"
      ]
     },
     "metadata": {
      "needs_background": "light"
     },
     "output_type": "display_data"
    }
   ],
   "source": [
    "iris.basic_descriptive_statistics('SepalLengthCm') # Ejemplo con una columna real"
   ]
  }
 ],
 "metadata": {
  "kernelspec": {
   "display_name": "Python 3 (ipykernel)",
   "language": "python",
   "name": "python3"
  },
  "language_info": {
   "codemirror_mode": {
    "name": "ipython",
    "version": 3
   },
   "file_extension": ".py",
   "mimetype": "text/x-python",
   "name": "python",
   "nbconvert_exporter": "python",
   "pygments_lexer": "ipython3",
   "version": "3.9.12"
  },
  "vscode": {
   "interpreter": {
    "hash": "916dbcbb3f70747c44a77c7bcd40155683ae19c65e1c03b4aa3499c5328201f1"
   }
  }
 },
 "nbformat": 4,
 "nbformat_minor": 5
}
