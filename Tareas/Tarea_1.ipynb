{
 "cells": [
  {
   "cell_type": "code",
   "execution_count": 34,
   "id": "de160e52",
   "metadata": {},
   "outputs": [
    {
     "data": {
      "text/html": [
       "<style>\n",
       "    .logo {\n",
       "        margin-right: 20px !important;\n",
       "        width: 80px;\n",
       "        height: 80px;\n",
       "    }\n",
       "    \n",
       "    .title {\n",
       "        color: blue;\n",
       "        text-transform: uppercase\n",
       "    }\n",
       "    \n",
       "    .author {\n",
       "        color: black;\n",
       "    }\n",
       "    \n",
       "    .author-img {\n",
       "        margin-right: 20px !important;\n",
       "        width: 200px;\n",
       "        border-radius: 100%;\n",
       "    }\n",
       "</style>\n"
      ],
      "text/plain": [
       "<IPython.core.display.HTML object>"
      ]
     },
     "metadata": {},
     "output_type": "display_data"
    }
   ],
   "source": [
    "%%html\n",
    "<style>\n",
    "    .logo {\n",
    "        margin-right: 20px !important;\n",
    "        width: 80px;\n",
    "        height: 80px;\n",
    "    }\n",
    "    \n",
    "    .title {\n",
    "        color: blue;\n",
    "        text-transform: uppercase\n",
    "    }\n",
    "    \n",
    "    .author {\n",
    "        color: black;\n",
    "    }\n",
    "    \n",
    "    .author-img {\n",
    "        margin-right: 20px !important;\n",
    "        width: 200px;\n",
    "        border-radius: 100%;\n",
    "    }\n",
    "</style>"
   ]
  },
  {
   "cell_type": "markdown",
   "id": "35758259",
   "metadata": {},
   "source": [
    "<img src=\"./Recursos/logo-ciencia-de-datos.png\" class=\"logo\" align=\"left\"/> \n",
    "<h1 class=\"title\"><left>Introducción al concepto de ciencia de datos</left></h1>"
   ]
  },
  {
   "cell_type": "markdown",
   "id": "1fa603d4",
   "metadata": {},
   "source": [
    "<h2 class=\"author\">Autor</h2>"
   ]
  },
  {
   "cell_type": "markdown",
   "id": "377512e5",
   "metadata": {},
   "source": [
    "<img src=\"./Recursos/hans.jpg\" class=\"author-img\" align=\"left\"/> "
   ]
  },
  {
   "cell_type": "markdown",
   "id": "8780a88d",
   "metadata": {},
   "source": [
    "Hans Yadiel Sánchez Mora\n",
    "<br>hanssanchez427@gmail.com\n",
    "<br>312 624 89 50\n",
    "<br>\n",
    "<br>\n",
    "Ing. Sistemas - [Universidad de Cundinamarca](https://www.ucundinamarca.edu.co/)\n",
    "<br>\n",
    "<ul>\n",
    "    <li>Desarrollador Full Stack Semi Senior.</li>\n",
    "    <li>Estudiante de Ciencia de Datos.</li>\n",
    "</ul>\n",
    "\n",
    "<h4>Perfil</h4>\n",
    "\n",
    "<p>\n",
    "Ingeniero de sistemas con enfoque en la ingeniería de software y sistemas de información\n",
    "\n",
    "Cuento con un poco más de 3 años laborando en el sector de las TIC apoyando la automatización de procesos enfocados en el brindar herramientas que facilitan labores manuales diarias.\n",
    "\n",
    "Soy capaz de trabajar en un ambiente laboral exigente, solo o en equipo como requiera el proyecto con el fin de alcanzar los objetivos propuestos.\n",
    "</p>"
   ]
  },
  {
   "cell_type": "markdown",
   "id": "25d97069",
   "metadata": {},
   "source": [
    "<h2>Contenido</h2>"
   ]
  },
  {
   "cell_type": "markdown",
   "id": "afc11ca4",
   "metadata": {},
   "source": [
    "1. [Introducción](#Introducción)\n",
    "1. [Concepto](#Concepto)\n",
    "1. [Ejemplo](#Ejemplo)\n",
    "1. [Referencias](#Referencias)"
   ]
  },
  {
   "cell_type": "markdown",
   "id": "29d9f346",
   "metadata": {},
   "source": [
    "<h2>Introducción</h2>"
   ]
  },
  {
   "cell_type": "markdown",
   "id": "c1352bae",
   "metadata": {},
   "source": [
    "<p>\n",
    "    La ciencia datos es un amplio campo de interdiciplinas la cual busca la implementación de diversos métodos para extraer un coocimiento de diferentes formas y obtener un producto a base de la información recolectada <span style=\"color: blue\">(Briega, s. f.)</span>\n",
    "</p>"
   ]
  },
  {
   "cell_type": "markdown",
   "id": "7a1a2b58",
   "metadata": {},
   "source": [
    "<h2>Concepto</h2>"
   ]
  },
  {
   "cell_type": "markdown",
   "id": "f55195be",
   "metadata": {},
   "source": [
    "<p style=\"text-align: justify\">\n",
    "    La ciencia de datos es una disciplina emergente y de gran pertinencia para todas las organizaciones que\n",
    "deseen codificar el valor oculto e intangible de sus datos. Hoy más que nunca estamos más conectados\n",
    "con personas y dispositivos, tenemos acceso a más redes y servicios, y sin duda consumimos y producimos mayores cantidades de datos e información. Por lo que requerimos contar con las habilidades,\n",
    "conocimientos, experiencias y técnicas de los científicos de datos para procesar, analizar y visualizar de\n",
    "formas más inteligentes los datos en información, promoviendo así, más y mejores conocimientos de\n",
    "nuestra realidad en sus contextos. En este artículo se explican las principales áreas en las que desarrolla\n",
    "un científico de datos (Big Data, minería y visualización de datos) y las intersecciones entre éstas; se incluyen ejemplos de proyectos desarrollados por científicos de datos y del gran valor que han sabido codificar. Además, se presenta una interpretación de los elementos que constituyen al científico de datos. <span style=\"color: blue\">(Moreno, 2017)</span>.\n",
    "</p>"
   ]
  },
  {
   "cell_type": "markdown",
   "id": "93b85b76",
   "metadata": {},
   "source": [
    "<h2>Ejemplo</h2>"
   ]
  },
  {
   "cell_type": "code",
   "execution_count": 33,
   "id": "022ee03e",
   "metadata": {},
   "outputs": [
    {
     "data": {
      "text/plain": [
       "2"
      ]
     },
     "execution_count": 33,
     "metadata": {},
     "output_type": "execute_result"
    }
   ],
   "source": [
    "1+1"
   ]
  },
  {
   "cell_type": "markdown",
   "id": "693d7ca9",
   "metadata": {},
   "source": [
    "<h2>Referencias</h2>"
   ]
  },
  {
   "cell_type": "markdown",
   "id": "b10f90c3",
   "metadata": {},
   "source": [
    "Briega, L. R. E. (s. f.). Ciencia de datos - Libro online de IAAR. Recuperado 19 de octubre de 2022, de https://iaarbook.github.io/datascience/\n",
    "\n",
    "Moreno Salinas, J. G., & Universidad Nacional Autónoma de México. (2017). Científico de datos: codificando el valor oculto e intangible de los datos. Revista digital universitaria, 18(7). https://doi.org/10.22201/codeic.16076079e.2017.v18n7.a2"
   ]
  }
 ],
 "metadata": {
  "kernelspec": {
   "display_name": "Python 3 (ipykernel)",
   "language": "python",
   "name": "python3"
  },
  "language_info": {
   "codemirror_mode": {
    "name": "ipython",
    "version": 3
   },
   "file_extension": ".py",
   "mimetype": "text/x-python",
   "name": "python",
   "nbconvert_exporter": "python",
   "pygments_lexer": "ipython3",
   "version": "3.9.12"
  }
 },
 "nbformat": 4,
 "nbformat_minor": 5
}
